{
 "cells": [
  {
   "cell_type": "markdown",
   "metadata": {},
   "source": [
    "# Nearest neighbor for handwritten digit recognition\n",
    "\n",
    "In this notebook we will build a classifier that takes an image of a handwritten digit and outputs a label 0-9. We will look at a particularly simple strategy for this problem known as the **nearest neighbor classifier**.\n",
    "\n",
    "To run this notebook you should have the following Python packages installed:\n",
    "* `numpy`\n",
    "* `matplotlib`\n",
    "* `sklearn`"
   ]
  },
  {
   "cell_type": "markdown",
   "metadata": {},
   "source": [
    "## 1. The MNIST dataset\n",
    "\n",
    "`MNIST` is a classic dataset in machine learning, consisting of 28x28 gray-scale images handwritten digits. The original training set contains 60,000 examples and the test set contains 10,000 examples. In this notebook we will be working with a subset of this data: a training set of 7,500 examples and a test set of 1,000 examples."
   ]
  },
  {
   "cell_type": "code",
   "execution_count": 1,
   "metadata": {},
   "outputs": [],
   "source": [
    "%matplotlib inline\n",
    "import numpy as np\n",
    "import matplotlib.pyplot as plt \n",
    "import time\n",
    "\n",
    "## Load the training set\n",
    "train_data = np.load('MNIST/train_data.npy')\n",
    "train_labels = np.load('MNIST/train_labels.npy')\n",
    "\n",
    "## Load the testing set\n",
    "test_data = np.load('MNIST/test_data.npy')\n",
    "test_labels = np.load('MNIST/test_labels.npy')"
   ]
  },
  {
   "cell_type": "code",
   "execution_count": 2,
   "metadata": {},
   "outputs": [
    {
     "name": "stdout",
     "output_type": "stream",
     "text": "Training dataset dimensions:  (7500, 784)\nNumber of training labels:  7500\nTesting dataset dimensions:  (1000, 784)\nNumber of testing labels:  1000\n"
    }
   ],
   "source": [
    "## Print out their dimensions\n",
    "print(\"Training dataset dimensions: \", np.shape(train_data))\n",
    "print(\"Number of training labels: \", len(train_labels))\n",
    "print(\"Testing dataset dimensions: \", np.shape(test_data))\n",
    "print(\"Number of testing labels: \", len(test_labels))"
   ]
  },
  {
   "cell_type": "code",
   "execution_count": 3,
   "metadata": {},
   "outputs": [
    {
     "name": "stdout",
     "output_type": "stream",
     "text": "Training set distribution:\n{0: 750, 1: 750, 2: 750, 3: 750, 4: 750, 5: 750, 6: 750, 7: 750, 8: 750, 9: 750}\nTest set distribution:\n{0: 100, 1: 100, 2: 100, 3: 100, 4: 100, 5: 100, 6: 100, 7: 100, 8: 100, 9: 100}\n"
    }
   ],
   "source": [
    "## Compute the number of examples of each digit\n",
    "train_digits, train_counts = np.unique(train_labels, return_counts=True)\n",
    "print(\"Training set distribution:\")\n",
    "print(dict(zip(train_digits, train_counts)))\n",
    "\n",
    "test_digits, test_counts = np.unique(test_labels, return_counts=True)\n",
    "print(\"Test set distribution:\")\n",
    "print(dict(zip(test_digits, test_counts)))"
   ]
  },
  {
   "cell_type": "markdown",
   "metadata": {},
   "source": [
    "## 2. Visualizing the data\n",
    "Each data point is stored as 784-dimensional vector. To visualize a data point, we first reshape it to a 28x28 image."
   ]
  },
  {
   "cell_type": "code",
   "execution_count": 4,
   "metadata": {},
   "outputs": [
    {
     "data": {
      "image/png": "[encoded data removed]",
      "image/svg+xml": "<?xml version=\"1.0\" encoding=\"utf-8\" standalone=\"no\"?>\r\n<!DOCTYPE svg PUBLIC \"-//W3C//DTD SVG 1.1//EN\"\r\n  \"http://www.w3.org/Graphics/SVG/1.1/DTD/svg11.dtd\">\r\n<!-- Created with matplotlib (https://matplotlib.org/) -->\r\n<svg height=\"231.84pt\" version=\"1.1\" viewBox=\"0 0 231.84 231.84\" width=\"231.84pt\" xmlns=\"http://www.w3.org/2000/svg\" xmlns:xlink=\"http://www.w3.org/1999/xlink\">\r\n <defs>\r\n  <style type=\"text/css\">\r\n*{stroke-linecap:butt;stroke-linejoin:round;white-space:pre;}\r\n  </style>\r\n </defs>\r\n <g id=\"figure_1\">\r\n  <g id=\"patch_1\">\r\n   <path d=\"M 0 231.84 \r\nL 231.84 231.84 \r\nL 231.84 0 \r\nL 0 0 \r\nz\r\n\" style=\"fill:none;\"/>\r\n  </g>\r\n  <g id=\"axes_1\">\r\n   <g clip-path=\"url(#p8291c715ef)\">\r\n    <image height=\"218\" id=\"image91cfe4aa33\" transform=\"scale(1 -1)translate(0 -218)\" width=\"218\" x=\"7.2\" xlink:href=\"data:image/png;base64,\r\niVBORw0KGgoAAAANSUhEUgAAANoAAADaCAYAAADAHVzbAAAABHNCSVQICAgIfAhkiAAABSNJREFUeJzt3bFrU3scxuHkcosIXZxKXVy0hbo4FFxqBUehSscWSsVBcHYQiohYcXNwU0RcXIqzdOlQF3ESJ+e61MFCN7u19w+45ns0ad7em/M860uSs3z4QQ4n6XY6naMOMFR/nfQFQBsIDQKEBgFCgwChQYDQIEBoECA0CBAaBAgNAoQGAUKDAKFBgNAgQGgQ8PdJXwDHb2xsrNyfPHnSc7t371752qWlpXJ/9+5dubeVEw0ChAYBQoMAoUGA0CBAaBDg6/0RNDMzU+5NX+FXZmdny93X+7/mRIMAoUGA0CBAaBAgNAgQGgQIDQKEBgFCgwChQYDQIEBoECA0CBAaBAgNAoQGAUKDAKFBgNAgQGgQIDQIEBoECA0C/K5jC3W73ZO+hNZxokGA0CBAaBAgNAgQGgQIDQKEBgHuo7XQ0dHRSV9C6zjRIEBoECA0CBAaBAgNAoQGAb7e/w+amZkp9x8/foSuhOPiRIMAoUGA0CBAaBAgNAgQGgQIDQLcR+vh1KlT5f706dNyb7oXVrl69Wq5f/v2rdz39vb6/myGw4kGAUKDAKFBgNAgQGgQIDQIEBoEuI/Ww4sXL8p9ZWUldCX/NjU1Ve4XLlwIXQm/y4kGAUKDAKFBgNAgQGgQIDQIEBoEdDudjv/w+YWmvzY6PDws9+qZsfX19fK1m5ub5d70vNqDBw/KfZBn5T58+FDu165d6/u9R5kTDQKEBgFCgwChQYDQIEBoENDax2QePnxY7k1f33/8+LHcr1y58sfX9Ls2NjbKfXx8vNxfvnzZ92fPz8/3/do2c6JBgNAgQGgQIDQIEBoECA0ChAYBrX1MZnd3t9wnJibKfXV1tdzfvn37x9d0XM6cOVPu29vbPbeLFy8O9NkLCwvl3vQI0KhyokGA0CBAaBAgNAgQGgQIDQKEBgGtfR5tlO3v75f7p0+fem6D3kdres7PfTRgaIQGAUKDAKFBgNAgQGgQIDQIcB+tT9PT0yd9CX37+vXr0N773LlzQ3vv/zMnGgQIDQKEBgFCgwChQYDQIEBoENDa+2hN/xH26NGjcr9161a5v379uue2s7NTvnbYrl+/3nPrdrsDvfegrx9VTjQIEBoECA0ChAYBQoMAoUFAa7/ef//+fbk3/Wza5ORkud++fbvv9x7U2bNny/38+fM9t6Oj+l+8fv78We5t/Tm5Jk40CBAaBAgNAoQGAUKDAKFBgNAgoNvpdOobJy316tWrcl9cXCz3g4ODntvNmzfL137+/Lncx8bGyv3GjRvlvrGxUe6VZ8+elfv9+/f7fu9R5kSDAKFBgNAgQGgQIDQIEBoECA0C3Efr0+PHj8t9bW2t5/b9+/fytW/evCn3ubm5cp+fny/3StO1LSwslPuXL1/6/uxR5kSDAKFBgNAgQGgQIDQIEBoECA0C3Efr0+nTp8t9a2ur53b58uWBPrvpr5H29/fLvfpNy+fPn5evbXpWjl9zokGA0CBAaBAgNAgQGgQIDQKEBgHuow3JpUuXem7Ly8vla+/evVvu4+Pj5d70m5R37twpd46fEw0ChAYBQoMAoUGA0CBAaBDg630IcKJBgNAgQGgQIDQIEBoECA0ChAYBQoMAoUGA0CBAaBAgNAgQGgQIDQKEBgFCgwChQYDQIEBoECA0CBAaBAgNAoQGAUKDAKFBgNAgQGgQIDQIEBoECA0ChAYBQoMAoUGA0CBAaBAgNAgQGgQIDQKEBgFCgwChQYDQIEBoECA0CBAaBAgNAv4BPS6mOzhJjeoAAAAASUVORK5CYII=\" y=\"-6.64\"/>\r\n   </g>\r\n  </g>\r\n </g>\r\n <defs>\r\n  <clipPath id=\"p8291c715ef\">\r\n   <rect height=\"217.44\" width=\"217.44\" x=\"7.2\" y=\"7.2\"/>\r\n  </clipPath>\r\n </defs>\r\n</svg>\r\n",
      "text/plain": "<Figure size 432x288 with 1 Axes>"
     },
     "metadata": {
      "needs_background": "light"
     },
     "output_type": "display_data"
    },
    {
     "name": "stdout",
     "output_type": "stream",
     "text": "Label 9\n"
    },
    {
     "data": {
      "image/png": "[encoded data removed]",
      "image/svg+xml": "<?xml version=\"1.0\" encoding=\"utf-8\" standalone=\"no\"?>\r\n<!DOCTYPE svg PUBLIC \"-//W3C//DTD SVG 1.1//EN\"\r\n  \"http://www.w3.org/Graphics/SVG/1.1/DTD/svg11.dtd\">\r\n<!-- Created with matplotlib (https://matplotlib.org/) -->\r\n<svg height=\"231.84pt\" version=\"1.1\" viewBox=\"0 0 231.84 231.84\" width=\"231.84pt\" xmlns=\"http://www.w3.org/2000/svg\" xmlns:xlink=\"http://www.w3.org/1999/xlink\">\r\n <defs>\r\n  <style type=\"text/css\">\r\n*{stroke-linecap:butt;stroke-linejoin:round;white-space:pre;}\r\n  </style>\r\n </defs>\r\n <g id=\"figure_1\">\r\n  <g id=\"patch_1\">\r\n   <path d=\"M 0 231.84 \r\nL 231.84 231.84 \r\nL 231.84 0 \r\nL 0 0 \r\nz\r\n\" style=\"fill:none;\"/>\r\n  </g>\r\n  <g id=\"axes_1\">\r\n   <g clip-path=\"url(#p542b213fe1)\">\r\n    <image height=\"218\" id=\"image425db070ca\" transform=\"scale(1 -1)translate(0 -218)\" width=\"218\" x=\"7.2\" xlink:href=\"data:image/png;base64,\r\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\" y=\"-6.64\"/>\r\n   </g>\r\n  </g>\r\n </g>\r\n <defs>\r\n  <clipPath id=\"p542b213fe1\">\r\n   <rect height=\"217.44\" width=\"217.44\" x=\"7.2\" y=\"7.2\"/>\r\n  </clipPath>\r\n </defs>\r\n</svg>\r\n",
      "text/plain": "<Figure size 432x288 with 1 Axes>"
     },
     "metadata": {
      "needs_background": "light"
     },
     "output_type": "display_data"
    },
    {
     "name": "stdout",
     "output_type": "stream",
     "text": "Label 0\n"
    }
   ],
   "source": [
    "## Define a function that displays a digit given its vector representation\n",
    "def show_digit(x):\n",
    "    plt.axis('off')\n",
    "    plt.imshow(x.reshape((28,28)), cmap=plt.cm.gray)\n",
    "    plt.show()\n",
    "    return\n",
    "\n",
    "## Define a function that takes an index into a particular data set (\"train\" or \"test\") and displays that image.\n",
    "def vis_image(index, dataset=\"train\"):\n",
    "    if(dataset==\"train\"): \n",
    "        show_digit(train_data[index,])\n",
    "        label = train_labels[index]\n",
    "    else:\n",
    "        show_digit(test_data[index,])\n",
    "        label = test_labels[index]\n",
    "    print(\"Label \" + str(label))\n",
    "    return\n",
    "\n",
    "## View the first data point in the training set\n",
    "vis_image(0, \"train\")\n",
    "\n",
    "## Now view the first data point in the test set\n",
    "vis_image(0, \"test\")"
   ]
  },
  {
   "cell_type": "markdown",
   "metadata": {
    "collapsed": true
   },
   "source": [
    "## 3. Squared Euclidean distance\n",
    "\n",
    "To compute nearest neighbors in our data set, we need to first be able to compute distances between data points. A natural distance function is _Euclidean distance_: for two vectors $x, y \\in \\mathbb{R}^d$, their Euclidean distance is defined as \n",
    "$$\\|x - y\\| = \\sqrt{\\sum_{i=1}^d (x_i - y_i)^2}.$$\n",
    "Often we omit the square root, and simply compute _squared Euclidean distance_:\n",
    "$$\\|x - y\\|^2 = \\sum_{i=1}^d (x_i - y_i)^2.$$\n",
    "For the purposes of nearest neighbor computations, the two are equivalent: for three vectors $x, y, z \\in \\mathbb{R}^d$, we have $\\|x - y\\| \\leq \\|x - z\\|$ if and only if $\\|x - y\\|^2 \\leq \\|x - z\\|^2$.\n",
    "\n",
    "Now we just need to be able to compute squared Euclidean distance. The following function does so."
   ]
  },
  {
   "cell_type": "code",
   "execution_count": 5,
   "metadata": {},
   "outputs": [
    {
     "name": "stdout",
     "output_type": "stream",
     "text": "Distance from 7 to 1:  5357193.0\nDistance from 7 to 2:  12451684.0\nDistance from 7 to 7:  5223403.0\n"
    }
   ],
   "source": [
    "## Computes squared Euclidean distance between two vectors.\n",
    "def squared_dist(x,y):\n",
    "    return np.sum(np.square(x-y))\n",
    "\n",
    "## Compute distance between a seven and a one in our training set.\n",
    "print(\"Distance from 7 to 1: \", squared_dist(train_data[4,],train_data[5,]))\n",
    "\n",
    "## Compute distance between a seven and a two in our training set.\n",
    "print(\"Distance from 7 to 2: \", squared_dist(train_data[4,],train_data[1,]))\n",
    "\n",
    "## Compute distance between two seven's in our training set.\n",
    "print(\"Distance from 7 to 7: \", squared_dist(train_data[4,],train_data[7,]))"
   ]
  },
  {
   "cell_type": "markdown",
   "metadata": {},
   "source": [
    "## 4. Computing nearest neighbors\n",
    "\n",
    "Now that we have a distance function defined, we can now turn to nearest neighbor classification. "
   ]
  },
  {
   "cell_type": "code",
   "execution_count": 6,
   "metadata": {},
   "outputs": [],
   "source": [
    "## Takes a vector x and returns the index of its nearest neighbor in train_data\n",
    "def find_NN(x):\n",
    "    # Compute distances from x to every row in train_data\n",
    "    distances = [squared_dist(x,train_data[i,]) for i in range(len(train_labels))]\n",
    "    # Get the index of the smallest distance\n",
    "    return np.argmin(distances)\n",
    "\n",
    "## Takes a vector x and returns the class of its nearest neighbor in train_data\n",
    "def NN_classifier(x):\n",
    "    # Get the index of the the nearest neighbor\n",
    "    index = find_NN(x)\n",
    "    # Return its class\n",
    "    return train_labels[index]"
   ]
  },
  {
   "cell_type": "code",
   "execution_count": 7,
   "metadata": {},
   "outputs": [
    {
     "name": "stdout",
     "output_type": "stream",
     "text": "A success case:\nNN classification:  0\nTrue label:  0\nThe test image:\n"
    },
    {
     "data": {
      "image/png": "[encoded data removed]",
      "image/svg+xml": "<?xml version=\"1.0\" encoding=\"utf-8\" standalone=\"no\"?>\r\n<!DOCTYPE svg PUBLIC \"-//W3C//DTD SVG 1.1//EN\"\r\n  \"http://www.w3.org/Graphics/SVG/1.1/DTD/svg11.dtd\">\r\n<!-- Created with matplotlib (https://matplotlib.org/) -->\r\n<svg height=\"231.84pt\" version=\"1.1\" viewBox=\"0 0 231.84 231.84\" width=\"231.84pt\" xmlns=\"http://www.w3.org/2000/svg\" xmlns:xlink=\"http://www.w3.org/1999/xlink\">\r\n <defs>\r\n  <style type=\"text/css\">\r\n*{stroke-linecap:butt;stroke-linejoin:round;white-space:pre;}\r\n  </style>\r\n </defs>\r\n <g id=\"figure_1\">\r\n  <g id=\"patch_1\">\r\n   <path d=\"M 0 231.84 \r\nL 231.84 231.84 \r\nL 231.84 0 \r\nL 0 0 \r\nz\r\n\" style=\"fill:none;\"/>\r\n  </g>\r\n  <g id=\"axes_1\">\r\n   <g clip-path=\"url(#p0b1cc83575)\">\r\n    <image height=\"218\" id=\"image5033f04a56\" transform=\"scale(1 -1)translate(0 -218)\" width=\"218\" x=\"7.2\" xlink:href=\"data:image/png;base64,\r\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\" y=\"-6.64\"/>\r\n   </g>\r\n  </g>\r\n </g>\r\n <defs>\r\n  <clipPath id=\"p0b1cc83575\">\r\n   <rect height=\"217.44\" width=\"217.44\" x=\"7.2\" y=\"7.2\"/>\r\n  </clipPath>\r\n </defs>\r\n</svg>\r\n",
      "text/plain": "<Figure size 432x288 with 1 Axes>"
     },
     "metadata": {
      "needs_background": "light"
     },
     "output_type": "display_data"
    },
    {
     "name": "stdout",
     "output_type": "stream",
     "text": "Label 0\nThe corresponding nearest neighbor image:\n"
    },
    {
     "data": {
      "image/png": "[encoded data removed]",
      "image/svg+xml": "<?xml version=\"1.0\" encoding=\"utf-8\" standalone=\"no\"?>\r\n<!DOCTYPE svg PUBLIC \"-//W3C//DTD SVG 1.1//EN\"\r\n  \"http://www.w3.org/Graphics/SVG/1.1/DTD/svg11.dtd\">\r\n<!-- Created with matplotlib (https://matplotlib.org/) -->\r\n<svg height=\"231.84pt\" version=\"1.1\" viewBox=\"0 0 231.84 231.84\" width=\"231.84pt\" xmlns=\"http://www.w3.org/2000/svg\" xmlns:xlink=\"http://www.w3.org/1999/xlink\">\r\n <defs>\r\n  <style type=\"text/css\">\r\n*{stroke-linecap:butt;stroke-linejoin:round;white-space:pre;}\r\n  </style>\r\n </defs>\r\n <g id=\"figure_1\">\r\n  <g id=\"patch_1\">\r\n   <path d=\"M 0 231.84 \r\nL 231.84 231.84 \r\nL 231.84 0 \r\nL 0 0 \r\nz\r\n\" style=\"fill:none;\"/>\r\n  </g>\r\n  <g id=\"axes_1\">\r\n   <g clip-path=\"url(#p6fe9995c7b)\">\r\n    <image height=\"218\" id=\"image84dc73b365\" transform=\"scale(1 -1)translate(0 -218)\" width=\"218\" x=\"7.2\" xlink:href=\"data:image/png;base64,\r\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\" y=\"-6.64\"/>\r\n   </g>\r\n  </g>\r\n </g>\r\n <defs>\r\n  <clipPath id=\"p6fe9995c7b\">\r\n   <rect height=\"217.44\" width=\"217.44\" x=\"7.2\" y=\"7.2\"/>\r\n  </clipPath>\r\n </defs>\r\n</svg>\r\n",
      "text/plain": "<Figure size 432x288 with 1 Axes>"
     },
     "metadata": {
      "needs_background": "light"
     },
     "output_type": "display_data"
    },
    {
     "name": "stdout",
     "output_type": "stream",
     "text": "Label 0\n"
    }
   ],
   "source": [
    "## A success case:\n",
    "print(\"A success case:\")\n",
    "print(\"NN classification: \", NN_classifier(test_data[0,]))\n",
    "print(\"True label: \", test_labels[0])\n",
    "print(\"The test image:\")\n",
    "vis_image(0, \"test\")\n",
    "print(\"The corresponding nearest neighbor image:\")\n",
    "vis_image(find_NN(test_data[0,]), \"train\")"
   ]
  },
  {
   "cell_type": "code",
   "execution_count": 8,
   "metadata": {},
   "outputs": [
    {
     "name": "stdout",
     "output_type": "stream",
     "text": "A failure case:\nNN classification:  2\nTrue label:  3\nThe test image:\n"
    },
    {
     "data": {
      "image/png": "[encoded data removed]",
      "image/svg+xml": "<?xml version=\"1.0\" encoding=\"utf-8\" standalone=\"no\"?>\r\n<!DOCTYPE svg PUBLIC \"-//W3C//DTD SVG 1.1//EN\"\r\n  \"http://www.w3.org/Graphics/SVG/1.1/DTD/svg11.dtd\">\r\n<!-- Created with matplotlib (https://matplotlib.org/) -->\r\n<svg height=\"231.84pt\" version=\"1.1\" viewBox=\"0 0 231.84 231.84\" width=\"231.84pt\" xmlns=\"http://www.w3.org/2000/svg\" xmlns:xlink=\"http://www.w3.org/1999/xlink\">\r\n <defs>\r\n  <style type=\"text/css\">\r\n*{stroke-linecap:butt;stroke-linejoin:round;white-space:pre;}\r\n  </style>\r\n </defs>\r\n <g id=\"figure_1\">\r\n  <g id=\"patch_1\">\r\n   <path d=\"M 0 231.84 \r\nL 231.84 231.84 \r\nL 231.84 0 \r\nL 0 0 \r\nz\r\n\" style=\"fill:none;\"/>\r\n  </g>\r\n  <g id=\"axes_1\">\r\n   <g clip-path=\"url(#p3a97c8cea7)\">\r\n    <image height=\"218\" id=\"imagee9811f66db\" transform=\"scale(1 -1)translate(0 -218)\" width=\"218\" x=\"7.2\" xlink:href=\"data:image/png;base64,\r\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\" y=\"-6.64\"/>\r\n   </g>\r\n  </g>\r\n </g>\r\n <defs>\r\n  <clipPath id=\"p3a97c8cea7\">\r\n   <rect height=\"217.44\" width=\"217.44\" x=\"7.2\" y=\"7.2\"/>\r\n  </clipPath>\r\n </defs>\r\n</svg>\r\n",
      "text/plain": "<Figure size 432x288 with 1 Axes>"
     },
     "metadata": {
      "needs_background": "light"
     },
     "output_type": "display_data"
    },
    {
     "name": "stdout",
     "output_type": "stream",
     "text": "Label 3\nThe corresponding nearest neighbor image:\n"
    },
    {
     "data": {
      "image/png": "[encoded data removed]",
      "image/svg+xml": "<?xml version=\"1.0\" encoding=\"utf-8\" standalone=\"no\"?>\r\n<!DOCTYPE svg PUBLIC \"-//W3C//DTD SVG 1.1//EN\"\r\n  \"http://www.w3.org/Graphics/SVG/1.1/DTD/svg11.dtd\">\r\n<!-- Created with matplotlib (https://matplotlib.org/) -->\r\n<svg height=\"231.84pt\" version=\"1.1\" viewBox=\"0 0 231.84 231.84\" width=\"231.84pt\" xmlns=\"http://www.w3.org/2000/svg\" xmlns:xlink=\"http://www.w3.org/1999/xlink\">\r\n <defs>\r\n  <style type=\"text/css\">\r\n*{stroke-linecap:butt;stroke-linejoin:round;white-space:pre;}\r\n  </style>\r\n </defs>\r\n <g id=\"figure_1\">\r\n  <g id=\"patch_1\">\r\n   <path d=\"M 0 231.84 \r\nL 231.84 231.84 \r\nL 231.84 0 \r\nL 0 0 \r\nz\r\n\" style=\"fill:none;\"/>\r\n  </g>\r\n  <g id=\"axes_1\">\r\n   <g clip-path=\"url(#pee7dbe87ac)\">\r\n    <image height=\"218\" id=\"image55f996e67e\" transform=\"scale(1 -1)translate(0 -218)\" width=\"218\" x=\"7.2\" xlink:href=\"data:image/png;base64,\r\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\" y=\"-6.64\"/>\r\n   </g>\r\n  </g>\r\n </g>\r\n <defs>\r\n  <clipPath id=\"pee7dbe87ac\">\r\n   <rect height=\"217.44\" width=\"217.44\" x=\"7.2\" y=\"7.2\"/>\r\n  </clipPath>\r\n </defs>\r\n</svg>\r\n",
      "text/plain": "<Figure size 432x288 with 1 Axes>"
     },
     "metadata": {
      "needs_background": "light"
     },
     "output_type": "display_data"
    },
    {
     "name": "stdout",
     "output_type": "stream",
     "text": "Label 2\n"
    }
   ],
   "source": [
    "## A failure case:\n",
    "print(\"A failure case:\")\n",
    "print(\"NN classification: \", NN_classifier(test_data[39,]))\n",
    "print(\"True label: \", test_labels[39])\n",
    "print(\"The test image:\")\n",
    "vis_image(39, \"test\")\n",
    "print(\"The corresponding nearest neighbor image:\")\n",
    "vis_image(find_NN(test_data[39,]), \"train\")"
   ]
  },
  {
   "cell_type": "markdown",
   "metadata": {},
   "source": [
    "## 5. For you to try\n",
    "The above two examples show the results of the NN classifier on test points number 0 and 39.\n",
    "\n",
    "Now try test point number 100.\n",
    "* What is the index of its nearest neighbor in the training set? _Record the answer: you will enter it as part of this week's assignment._\n",
    "* Display both the test point and its nearest neighbor.\n",
    "* What label is predicted? Is this the correct label?"
   ]
  },
  {
   "cell_type": "code",
   "execution_count": 9,
   "metadata": {},
   "outputs": [
    {
     "name": "stdout",
     "output_type": "stream",
     "text": "4711\nNN classification:  4\nTrue label:  4\nThe test image:\n"
    },
    {
     "data": {
      "image/png": "[encoded data removed]",
      "image/svg+xml": "<?xml version=\"1.0\" encoding=\"utf-8\" standalone=\"no\"?>\r\n<!DOCTYPE svg PUBLIC \"-//W3C//DTD SVG 1.1//EN\"\r\n  \"http://www.w3.org/Graphics/SVG/1.1/DTD/svg11.dtd\">\r\n<!-- Created with matplotlib (https://matplotlib.org/) -->\r\n<svg height=\"231.84pt\" version=\"1.1\" viewBox=\"0 0 231.84 231.84\" width=\"231.84pt\" xmlns=\"http://www.w3.org/2000/svg\" xmlns:xlink=\"http://www.w3.org/1999/xlink\">\r\n <defs>\r\n  <style type=\"text/css\">\r\n*{stroke-linecap:butt;stroke-linejoin:round;white-space:pre;}\r\n  </style>\r\n </defs>\r\n <g id=\"figure_1\">\r\n  <g id=\"patch_1\">\r\n   <path d=\"M 0 231.84 \r\nL 231.84 231.84 \r\nL 231.84 0 \r\nL 0 0 \r\nz\r\n\" style=\"fill:none;\"/>\r\n  </g>\r\n  <g id=\"axes_1\">\r\n   <g clip-path=\"url(#pae18de3240)\">\r\n    <image height=\"218\" id=\"imagec20868c7d0\" transform=\"scale(1 -1)translate(0 -218)\" width=\"218\" x=\"7.2\" xlink:href=\"data:image/png;base64,\r\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\" y=\"-6.64\"/>\r\n   </g>\r\n  </g>\r\n </g>\r\n <defs>\r\n  <clipPath id=\"pae18de3240\">\r\n   <rect height=\"217.44\" width=\"217.44\" x=\"7.2\" y=\"7.2\"/>\r\n  </clipPath>\r\n </defs>\r\n</svg>\r\n",
      "text/plain": "<Figure size 432x288 with 1 Axes>"
     },
     "metadata": {
      "needs_background": "light"
     },
     "output_type": "display_data"
    },
    {
     "name": "stdout",
     "output_type": "stream",
     "text": "Label 4\nThe corresponding nearest neighbor image:\n"
    },
    {
     "data": {
      "image/png": "[encoded data removed]",
      "image/svg+xml": "<?xml version=\"1.0\" encoding=\"utf-8\" standalone=\"no\"?>\r\n<!DOCTYPE svg PUBLIC \"-//W3C//DTD SVG 1.1//EN\"\r\n  \"http://www.w3.org/Graphics/SVG/1.1/DTD/svg11.dtd\">\r\n<!-- Created with matplotlib (https://matplotlib.org/) -->\r\n<svg height=\"231.84pt\" version=\"1.1\" viewBox=\"0 0 231.84 231.84\" width=\"231.84pt\" xmlns=\"http://www.w3.org/2000/svg\" xmlns:xlink=\"http://www.w3.org/1999/xlink\">\r\n <defs>\r\n  <style type=\"text/css\">\r\n*{stroke-linecap:butt;stroke-linejoin:round;white-space:pre;}\r\n  </style>\r\n </defs>\r\n <g id=\"figure_1\">\r\n  <g id=\"patch_1\">\r\n   <path d=\"M 0 231.84 \r\nL 231.84 231.84 \r\nL 231.84 0 \r\nL 0 0 \r\nz\r\n\" style=\"fill:none;\"/>\r\n  </g>\r\n  <g id=\"axes_1\">\r\n   <g clip-path=\"url(#pe944bfcf3c)\">\r\n    <image height=\"218\" id=\"imaged1b87d1ff7\" transform=\"scale(1 -1)translate(0 -218)\" width=\"218\" x=\"7.2\" xlink:href=\"data:image/png;base64,\r\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\" y=\"-6.64\"/>\r\n   </g>\r\n  </g>\r\n </g>\r\n <defs>\r\n  <clipPath id=\"pe944bfcf3c\">\r\n   <rect height=\"217.44\" width=\"217.44\" x=\"7.2\" y=\"7.2\"/>\r\n  </clipPath>\r\n </defs>\r\n</svg>\r\n",
      "text/plain": "<Figure size 432x288 with 1 Axes>"
     },
     "metadata": {
      "needs_background": "light"
     },
     "output_type": "display_data"
    },
    {
     "name": "stdout",
     "output_type": "stream",
     "text": "Label 4\n"
    }
   ],
   "source": [
    "# The answer is right\n",
    "print(find_NN(test_data[100,]))\n",
    "print(\"NN classification: \", NN_classifier(test_data[100,]))\n",
    "print(\"True label: \", test_labels[100])\n",
    "print(\"The test image:\")\n",
    "vis_image(100, \"test\")\n",
    "print(\"The corresponding nearest neighbor image:\")\n",
    "vis_image(find_NN(test_data[100,]), \"train\")"
   ]
  },
  {
   "cell_type": "markdown",
   "metadata": {},
   "source": [
    "## 6. Processing the full test set\n",
    "\n",
    "Now let's apply our nearest neighbor classifier over the full data set. \n",
    "\n",
    "Note that to classify each test point, our code takes a full pass over each of the 7500 training examples. Thus we should not expect testing to be very fast. The following code takes about 100-150 seconds on 2.6 GHz Intel Core i5. "
   ]
  },
  {
   "cell_type": "code",
   "execution_count": 9,
   "metadata": {},
   "outputs": [
    {
     "name": "stdout",
     "output_type": "stream",
     "text": [
      "('Error of nearest neighbor classifier: ', 0.046)\n",
      "('Classification time (seconds): ', 103.47288608551025)\n"
     ]
    }
   ],
   "source": [
    "## Predict on each test data point (and time it!)\n",
    "t_before = time.time()\n",
    "test_predictions = [NN_classifier(test_data[i,]) for i in range(len(test_labels))]\n",
    "t_after = time.time()\n",
    "\n",
    "## Compute the error\n",
    "err_positions = np.not_equal(test_predictions, test_labels)\n",
    "error = float(np.sum(err_positions))/len(test_labels)\n",
    "\n",
    "print(\"Error of nearest neighbor classifier: \", error)\n",
    "print(\"Classification time (seconds): \", t_after - t_before)"
   ]
  },
  {
   "cell_type": "markdown",
   "metadata": {},
   "source": [
    "## 7. Faster nearest neighbor methods\n",
    "\n",
    "Performing nearest neighbor classification in the way we have presented requires a full pass through the training set in order to classify a single point. If there are $N$ training points in $\\mathbb{R}^d$, this takes $O(N d)$ time.\n",
    "\n",
    "Fortunately, there are faster methods to perform nearest neighbor look up if we are willing to spend some time preprocessing the training set. `scikit-learn` has fast implementations of two useful nearest neighbor data structures: the _ball tree_ and the _k-d tree_. "
   ]
  },
  {
   "cell_type": "code",
   "execution_count": 10,
   "metadata": {},
   "outputs": [
    {
     "name": "stdout",
     "output_type": "stream",
     "text": [
      "('Time to build data structure (seconds): ', 0.6710259914398193)\n",
      "('Time to classify test set (seconds): ', 6.873594045639038)\n",
      "('Ball tree produces same predictions as above? ', True)\n"
     ]
    }
   ],
   "source": [
    "from sklearn.neighbors import BallTree\n",
    "\n",
    "## Build nearest neighbor structure on training data\n",
    "t_before = time.time()\n",
    "ball_tree = BallTree(train_data)\n",
    "t_after = time.time()\n",
    "\n",
    "## Compute training time\n",
    "t_training = t_after - t_before\n",
    "print(\"Time to build data structure (seconds): \", t_training)\n",
    "\n",
    "## Get nearest neighbor predictions on testing data\n",
    "t_before = time.time()\n",
    "test_neighbors = np.squeeze(ball_tree.query(test_data, k=1, return_distance=False))\n",
    "ball_tree_predictions = train_labels[test_neighbors]\n",
    "t_after = time.time()\n",
    "\n",
    "## Compute testing time\n",
    "t_testing = t_after - t_before\n",
    "print(\"Time to classify test set (seconds): \", t_testing)\n",
    "\n",
    "## Verify that the predictions are the same\n",
    "print(\"Ball tree produces same predictions as above? \", np.array_equal(test_predictions, ball_tree_predictions))"
   ]
  },
  {
   "cell_type": "code",
   "execution_count": 11,
   "metadata": {},
   "outputs": [
    {
     "name": "stdout",
     "output_type": "stream",
     "text": [
      "('Time to build data structure (seconds): ', 0.6729860305786133)\n",
      "('Time to classify test set (seconds): ', 12.384800910949707)\n",
      "('KD tree produces same predictions as above? ', True)\n"
     ]
    }
   ],
   "source": [
    "from sklearn.neighbors import KDTree\n",
    "\n",
    "## Build nearest neighbor structure on training data\n",
    "t_before = time.time()\n",
    "kd_tree = KDTree(train_data)\n",
    "t_after = time.time()\n",
    "\n",
    "## Compute training time\n",
    "t_training = t_after - t_before\n",
    "print(\"Time to build data structure (seconds): \", t_training)\n",
    "\n",
    "## Get nearest neighbor predictions on testing data\n",
    "t_before = time.time()\n",
    "test_neighbors = np.squeeze(kd_tree.query(test_data, k=1, return_distance=False))\n",
    "kd_tree_predictions = train_labels[test_neighbors]\n",
    "t_after = time.time()\n",
    "\n",
    "## Compute testing time\n",
    "t_testing = t_after - t_before\n",
    "print(\"Time to classify test set (seconds): \", t_testing)\n",
    "\n",
    "## Verify that the predictions are the same\n",
    "print(\"KD tree produces same predictions as above? \", np.array_equal(test_predictions, kd_tree_predictions))"
   ]
  }
 ],
 "metadata": {
  "anaconda-cloud": {},
  "kernelspec": {
   "display_name": "Python 3.7.3 64-bit ('base': conda)",
   "language": "python",
   "name": "python37364bitbasecondad46e36bfdf994978b535724c6e94947d"
  },
  "language_info": {
   "codemirror_mode": {
    "name": "ipython",
    "version": 2
   },
   "file_extension": ".py",
   "mimetype": "text/x-python",
   "name": "python",
   "nbconvert_exporter": "python",
   "pygments_lexer": "ipython2",
   "version": "3.7.3-final"
  },
  "toc": {
   "colors": {
    "hover_highlight": "#DAA520",
    "navigate_num": "#000000",
    "navigate_text": "#333333",
    "running_highlight": "#FF0000",
    "selected_highlight": "#FFD700",
    "sidebar_border": "#EEEEEE",
    "wrapper_background": "#FFFFFF"
   },
   "moveMenuLeft": true,
   "nav_menu": {
    "height": "153px",
    "width": "252px"
   },
   "navigate_menu": true,
   "number_sections": false,
   "sideBar": true,
   "threshold": 4,
   "toc_cell": false,
   "toc_section_display": "block",
   "toc_window_display": false,
   "widenNotebook": false
  }
 },
 "nbformat": 4,
 "nbformat_minor": 1
}